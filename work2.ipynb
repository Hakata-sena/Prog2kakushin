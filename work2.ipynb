{
  "nbformat": 4,
  "nbformat_minor": 0,
  "metadata": {
    "colab": {
      "provenance": [],
      "authorship_tag": "ABX9TyPSafOsJraetMxuqkVYGdrc",
      "include_colab_link": true
    },
    "kernelspec": {
      "name": "python3",
      "display_name": "Python 3"
    },
    "language_info": {
      "name": "python"
    }
  },
  "cells": [
    {
      "cell_type": "markdown",
      "metadata": {
        "id": "view-in-github",
        "colab_type": "text"
      },
      "source": [
        "<a href=\"https://colab.research.google.com/github/Hakata-sena/Prog2kakushin/blob/main/work2.ipynb\" target=\"_parent\"><img src=\"https://colab.research.google.com/assets/colab-badge.svg\" alt=\"Open In Colab\"/></a>"
      ]
    },
    {
      "cell_type": "code",
      "source": [
        "import numpy as np\n",
        "\n",
        "def player():\n",
        "  while True:\n",
        "    u = int(input('じゃんけんの手を選んでください (0: グー, 1: チョキ, 2: パー): '))\n",
        "    if u < 0 or 2 < u:\n",
        "      print('0から2の範囲で選んでください。')\n",
        "    if u == 0:\n",
        "      u_ = 'グー'\n",
        "    elif u == 1:\n",
        "      u_ = 'チョキ'\n",
        "    else:\n",
        "      u_ = 'パー'\n",
        "    print('プレイヤー：'+u_)\n",
        "    return u\n",
        "\n",
        "def computer():\n",
        "  c = np.random.randint(0, 3)\n",
        "  if c == 0:\n",
        "    c_ = 'グー'\n",
        "  elif c == 1:\n",
        "    c_ = 'チョキ'\n",
        "  else:\n",
        "    c_ = 'パー'\n",
        "  print('コンピュータ：'+c_)\n",
        "  return c\n",
        "\n",
        "def win(u,c):\n",
        "  if u == c:\n",
        "    print('引き分け')\n",
        "  elif (u == 0 and c == 1) or (u == 1 and c == 2) or (u == 2 and c == 0):\n",
        "    print('プレイヤーの勝利')\n",
        "  else:\n",
        "    print('コンピュータの勝利')\n",
        "\n",
        "u = player()\n",
        "c = computer()\n",
        "win(u,c)\n",
        "if u == c:\n",
        "  while u == c:\n",
        "    u = player()\n",
        "    c = computer()\n",
        "    win(u,c)"
      ],
      "metadata": {
        "colab": {
          "base_uri": "https://localhost:8080/"
        },
        "id": "FrF80pOchPSV",
        "outputId": "89b05b33-166a-462b-cc93-019c2567cdea"
      },
      "execution_count": 13,
      "outputs": [
        {
          "output_type": "stream",
          "name": "stdout",
          "text": [
            "じゃんけんの手を選んでください (0: グー, 1: チョキ, 2: パー): 2\n",
            "プレイヤー：パー\n",
            "コンピュータ：パー\n",
            "引き分け\n",
            "じゃんけんの手を選んでください (0: グー, 1: チョキ, 2: パー): 1\n",
            "プレイヤー：チョキ\n",
            "コンピュータ：チョキ\n",
            "引き分け\n",
            "じゃんけんの手を選んでください (0: グー, 1: チョキ, 2: パー): 1\n",
            "プレイヤー：チョキ\n",
            "コンピュータ：チョキ\n",
            "引き分け\n",
            "じゃんけんの手を選んでください (0: グー, 1: チョキ, 2: パー): 2\n",
            "プレイヤー：パー\n",
            "コンピュータ：グー\n",
            "プレイヤーの勝利\n"
          ]
        }
      ]
    }
  ]
}